{
 "cells": [
  {
   "cell_type": "markdown",
   "metadata": {},
   "source": [
    "# Lab | Hypothesis Testing"
   ]
  },
  {
   "cell_type": "markdown",
   "metadata": {},
   "source": [
    "**Objective**\n",
    "\n",
    "Welcome to the Hypothesis Testing Lab, where we embark on an enlightening journey through the realm of statistical decision-making! In this laboratory, we delve into various scenarios, applying the powerful tools of hypothesis testing to scrutinize and interpret data.\n",
    "\n",
    "From testing the mean of a single sample (One Sample T-Test), to investigating differences between independent groups (Two Sample T-Test), and exploring relationships within dependent samples (Paired Sample T-Test), our exploration knows no bounds. Furthermore, we'll venture into the realm of Analysis of Variance (ANOVA), unraveling the complexities of comparing means across multiple groups.\n",
    "\n",
    "So, grab your statistical tools, prepare your hypotheses, and let's embark on this fascinating journey of exploration and discovery in the world of hypothesis testing!"
   ]
  },
  {
   "cell_type": "markdown",
   "metadata": {},
   "source": [
    "**Challenge 1**"
   ]
  },
  {
   "cell_type": "markdown",
   "metadata": {},
   "source": [
    "In this challenge, we will be working with pokemon data. The data can be found here:\n",
    "\n",
    "- https://raw.githubusercontent.com/data-bootcamp-v4/data/main/pokemon.csv"
   ]
  },
  {
   "cell_type": "code",
   "execution_count": 1,
   "metadata": {},
   "outputs": [],
   "source": [
    "#libraries\n",
    "import pandas as pd\n",
    "import scipy.stats as st\n",
    "import numpy as np\n",
    "\n"
   ]
  },
  {
   "cell_type": "code",
   "execution_count": 2,
   "metadata": {},
   "outputs": [
    {
     "data": {
      "text/html": [
       "<div>\n",
       "<style scoped>\n",
       "    .dataframe tbody tr th:only-of-type {\n",
       "        vertical-align: middle;\n",
       "    }\n",
       "\n",
       "    .dataframe tbody tr th {\n",
       "        vertical-align: top;\n",
       "    }\n",
       "\n",
       "    .dataframe thead th {\n",
       "        text-align: right;\n",
       "    }\n",
       "</style>\n",
       "<table border=\"1\" class=\"dataframe\">\n",
       "  <thead>\n",
       "    <tr style=\"text-align: right;\">\n",
       "      <th></th>\n",
       "      <th>Name</th>\n",
       "      <th>Type 1</th>\n",
       "      <th>Type 2</th>\n",
       "      <th>HP</th>\n",
       "      <th>Attack</th>\n",
       "      <th>Defense</th>\n",
       "      <th>Sp. Atk</th>\n",
       "      <th>Sp. Def</th>\n",
       "      <th>Speed</th>\n",
       "      <th>Generation</th>\n",
       "      <th>Legendary</th>\n",
       "    </tr>\n",
       "  </thead>\n",
       "  <tbody>\n",
       "    <tr>\n",
       "      <th>0</th>\n",
       "      <td>Bulbasaur</td>\n",
       "      <td>Grass</td>\n",
       "      <td>Poison</td>\n",
       "      <td>45</td>\n",
       "      <td>49</td>\n",
       "      <td>49</td>\n",
       "      <td>65</td>\n",
       "      <td>65</td>\n",
       "      <td>45</td>\n",
       "      <td>1</td>\n",
       "      <td>False</td>\n",
       "    </tr>\n",
       "    <tr>\n",
       "      <th>1</th>\n",
       "      <td>Ivysaur</td>\n",
       "      <td>Grass</td>\n",
       "      <td>Poison</td>\n",
       "      <td>60</td>\n",
       "      <td>62</td>\n",
       "      <td>63</td>\n",
       "      <td>80</td>\n",
       "      <td>80</td>\n",
       "      <td>60</td>\n",
       "      <td>1</td>\n",
       "      <td>False</td>\n",
       "    </tr>\n",
       "    <tr>\n",
       "      <th>2</th>\n",
       "      <td>Venusaur</td>\n",
       "      <td>Grass</td>\n",
       "      <td>Poison</td>\n",
       "      <td>80</td>\n",
       "      <td>82</td>\n",
       "      <td>83</td>\n",
       "      <td>100</td>\n",
       "      <td>100</td>\n",
       "      <td>80</td>\n",
       "      <td>1</td>\n",
       "      <td>False</td>\n",
       "    </tr>\n",
       "    <tr>\n",
       "      <th>3</th>\n",
       "      <td>Mega Venusaur</td>\n",
       "      <td>Grass</td>\n",
       "      <td>Poison</td>\n",
       "      <td>80</td>\n",
       "      <td>100</td>\n",
       "      <td>123</td>\n",
       "      <td>122</td>\n",
       "      <td>120</td>\n",
       "      <td>80</td>\n",
       "      <td>1</td>\n",
       "      <td>False</td>\n",
       "    </tr>\n",
       "    <tr>\n",
       "      <th>4</th>\n",
       "      <td>Charmander</td>\n",
       "      <td>Fire</td>\n",
       "      <td>NaN</td>\n",
       "      <td>39</td>\n",
       "      <td>52</td>\n",
       "      <td>43</td>\n",
       "      <td>60</td>\n",
       "      <td>50</td>\n",
       "      <td>65</td>\n",
       "      <td>1</td>\n",
       "      <td>False</td>\n",
       "    </tr>\n",
       "    <tr>\n",
       "      <th>...</th>\n",
       "      <td>...</td>\n",
       "      <td>...</td>\n",
       "      <td>...</td>\n",
       "      <td>...</td>\n",
       "      <td>...</td>\n",
       "      <td>...</td>\n",
       "      <td>...</td>\n",
       "      <td>...</td>\n",
       "      <td>...</td>\n",
       "      <td>...</td>\n",
       "      <td>...</td>\n",
       "    </tr>\n",
       "    <tr>\n",
       "      <th>795</th>\n",
       "      <td>Diancie</td>\n",
       "      <td>Rock</td>\n",
       "      <td>Fairy</td>\n",
       "      <td>50</td>\n",
       "      <td>100</td>\n",
       "      <td>150</td>\n",
       "      <td>100</td>\n",
       "      <td>150</td>\n",
       "      <td>50</td>\n",
       "      <td>6</td>\n",
       "      <td>True</td>\n",
       "    </tr>\n",
       "    <tr>\n",
       "      <th>796</th>\n",
       "      <td>Mega Diancie</td>\n",
       "      <td>Rock</td>\n",
       "      <td>Fairy</td>\n",
       "      <td>50</td>\n",
       "      <td>160</td>\n",
       "      <td>110</td>\n",
       "      <td>160</td>\n",
       "      <td>110</td>\n",
       "      <td>110</td>\n",
       "      <td>6</td>\n",
       "      <td>True</td>\n",
       "    </tr>\n",
       "    <tr>\n",
       "      <th>797</th>\n",
       "      <td>Hoopa Confined</td>\n",
       "      <td>Psychic</td>\n",
       "      <td>Ghost</td>\n",
       "      <td>80</td>\n",
       "      <td>110</td>\n",
       "      <td>60</td>\n",
       "      <td>150</td>\n",
       "      <td>130</td>\n",
       "      <td>70</td>\n",
       "      <td>6</td>\n",
       "      <td>True</td>\n",
       "    </tr>\n",
       "    <tr>\n",
       "      <th>798</th>\n",
       "      <td>Hoopa Unbound</td>\n",
       "      <td>Psychic</td>\n",
       "      <td>Dark</td>\n",
       "      <td>80</td>\n",
       "      <td>160</td>\n",
       "      <td>60</td>\n",
       "      <td>170</td>\n",
       "      <td>130</td>\n",
       "      <td>80</td>\n",
       "      <td>6</td>\n",
       "      <td>True</td>\n",
       "    </tr>\n",
       "    <tr>\n",
       "      <th>799</th>\n",
       "      <td>Volcanion</td>\n",
       "      <td>Fire</td>\n",
       "      <td>Water</td>\n",
       "      <td>80</td>\n",
       "      <td>110</td>\n",
       "      <td>120</td>\n",
       "      <td>130</td>\n",
       "      <td>90</td>\n",
       "      <td>70</td>\n",
       "      <td>6</td>\n",
       "      <td>True</td>\n",
       "    </tr>\n",
       "  </tbody>\n",
       "</table>\n",
       "<p>800 rows × 11 columns</p>\n",
       "</div>"
      ],
      "text/plain": [
       "               Name   Type 1  Type 2  HP  Attack  Defense  Sp. Atk  Sp. Def  \\\n",
       "0         Bulbasaur    Grass  Poison  45      49       49       65       65   \n",
       "1           Ivysaur    Grass  Poison  60      62       63       80       80   \n",
       "2          Venusaur    Grass  Poison  80      82       83      100      100   \n",
       "3     Mega Venusaur    Grass  Poison  80     100      123      122      120   \n",
       "4        Charmander     Fire     NaN  39      52       43       60       50   \n",
       "..              ...      ...     ...  ..     ...      ...      ...      ...   \n",
       "795         Diancie     Rock   Fairy  50     100      150      100      150   \n",
       "796    Mega Diancie     Rock   Fairy  50     160      110      160      110   \n",
       "797  Hoopa Confined  Psychic   Ghost  80     110       60      150      130   \n",
       "798   Hoopa Unbound  Psychic    Dark  80     160       60      170      130   \n",
       "799       Volcanion     Fire   Water  80     110      120      130       90   \n",
       "\n",
       "     Speed  Generation  Legendary  \n",
       "0       45           1      False  \n",
       "1       60           1      False  \n",
       "2       80           1      False  \n",
       "3       80           1      False  \n",
       "4       65           1      False  \n",
       "..     ...         ...        ...  \n",
       "795     50           6       True  \n",
       "796    110           6       True  \n",
       "797     70           6       True  \n",
       "798     80           6       True  \n",
       "799     70           6       True  \n",
       "\n",
       "[800 rows x 11 columns]"
      ]
     },
     "execution_count": 2,
     "metadata": {},
     "output_type": "execute_result"
    }
   ],
   "source": [
    "df = pd.read_csv(\"https://raw.githubusercontent.com/data-bootcamp-v4/data/main/pokemon.csv\")\n",
    "df"
   ]
  },
  {
   "cell_type": "code",
   "execution_count": 6,
   "metadata": {},
   "outputs": [
    {
     "data": {
      "text/plain": [
       "array(['Grass', 'Fire', 'Water', 'Bug', 'Normal', 'Poison', 'Electric',\n",
       "       'Ground', 'Fairy', 'Fighting', 'Psychic', 'Rock', 'Ghost', 'Ice',\n",
       "       'Dragon', 'Dark', 'Steel', 'Flying'], dtype=object)"
      ]
     },
     "execution_count": 6,
     "metadata": {},
     "output_type": "execute_result"
    }
   ],
   "source": [
    "df[\"Type 1\"].unique()"
   ]
  },
  {
   "cell_type": "markdown",
   "metadata": {},
   "source": [
    "- We posit that Pokemons of type Dragon have, on average, more HP stats than Grass. Choose the propper test and, with 5% significance, comment your findings."
   ]
  },
  {
   "cell_type": "code",
   "execution_count": 28,
   "metadata": {},
   "outputs": [],
   "source": [
    "#Set the hypothesis\n",
    "\n",
    "#H0: dragons_hp >= grass_hp\n",
    "#H1: dragons_hp <  grass_hp\n",
    "\n",
    "#significance level = 0.05\n",
    "dragons_hp = df[df[\"Type 1\"]==\"Dragon\"][\"HP\"].dropna()\n",
    "grass_hp = df[df[\"Type 1\"]==\"Grass\"][\"HP\"].dropna()"
   ]
  },
  {
   "cell_type": "code",
   "execution_count": 29,
   "metadata": {},
   "outputs": [
    {
     "name": "stdout",
     "output_type": "stream",
     "text": [
      "T-statistic: 3.3350\n",
      "P-value: 0.9992\n",
      "Fail to Reject H0: There is no significant evidence to suggest that the mean HP of Dragon-type Pokémon is less than that of Grass-type Pokémon.\n"
     ]
    }
   ],
   "source": [
    "from scipy.stats import ttest_ind\n",
    "\n",
    "# Perform the t-test\n",
    "t_stat, p_value = ttest_ind(dragons_hp, grass_hp, equal_var=False, alternative='less')\n",
    "\n",
    "# Print results\n",
    "print(f\"T-statistic: {t_stat:.4f}\")\n",
    "print(f\"P-value: {p_value:.4f}\")\n",
    "\n",
    "# Conclusion\n",
    "if p_value < 0.05:\n",
    "    print(\"Reject H0: The mean HP of Dragon-type Pokémon is significantly less than that of Grass-type Pokémon.\")\n",
    "else:\n",
    "    print(\"Fail to Reject H0: There is no significant evidence to suggest that the mean HP of Dragon-type Pokémon is less than that of Grass-type Pokémon.\")\n"
   ]
  },
  {
   "cell_type": "markdown",
   "metadata": {},
   "source": [
    "- We posit that Legendary Pokemons have different stats (HP, Attack, Defense, Sp.Atk, Sp.Def, Speed) when comparing with Non-Legendary. Choose the propper test and, with 5% significance, comment your findings.\n"
   ]
  },
  {
   "cell_type": "code",
   "execution_count": 17,
   "metadata": {},
   "outputs": [
    {
     "name": "stdout",
     "output_type": "stream",
     "text": [
      "Legendary Pokémon Stats:\n",
      "    HP  Attack  Defense  Sp. Atk  Sp. Def  Speed  Legendary\n",
      "0   90      85      100       95      125     85       True\n",
      "1   90      90       85      125       90    100       True\n",
      "2   90     100       90      125       85     90       True\n",
      "3  106     110       90      154       90    130       True\n",
      "4  106     190      100      154      100    130       True\n",
      "\n",
      "Non-Legendary Pokémon Stats:\n",
      "   HP  Attack  Defense  Sp. Atk  Sp. Def  Speed  Legendary\n",
      "0  45      49       49       65       65     45      False\n",
      "1  60      62       63       80       80     60      False\n",
      "2  80      82       83      100      100     80      False\n",
      "3  80     100      123      122      120     80      False\n",
      "4  39      52       43       60       50     65      False\n"
     ]
    }
   ],
   "source": [
    "stats_columns = [\"HP\", \"Attack\", \"Defense\", \"Sp. Atk\", \"Sp. Def\", \"Speed\", \"Legendary\"]\n",
    "\n",
    "legendary_stats = df[df[\"Legendary\"] == True][stats_columns].reset_index(drop=True)\n",
    "non_legendary_stats = df[df[\"Legendary\"] == False][stats_columns].reset_index(drop=True)\n",
    "\n",
    "# Display the first few rows of each DataFrame\n",
    "print(\"Legendary Pokémon Stats:\")\n",
    "print(legendary_stats.head())\n",
    "\n",
    "print(\"\\nNon-Legendary Pokémon Stats:\")\n",
    "print(non_legendary_stats.head())"
   ]
  },
  {
   "cell_type": "code",
   "execution_count": 25,
   "metadata": {},
   "outputs": [
    {
     "name": "stdout",
     "output_type": "stream",
     "text": [
      "Stat: HP\n",
      "  t-statistic: 8.9814\n",
      "  p-value: 0.00000000\n",
      "  Conclusion: Reject H0\n",
      "\n",
      "Stat: Attack\n",
      "  t-statistic: 10.4381\n",
      "  p-value: 0.00000000\n",
      "  Conclusion: Reject H0\n",
      "\n",
      "Stat: Defense\n",
      "  t-statistic: 7.6371\n",
      "  p-value: 0.00000000\n",
      "  Conclusion: Reject H0\n",
      "\n",
      "Stat: Sp. Atk\n",
      "  t-statistic: 13.4174\n",
      "  p-value: 0.00000000\n",
      "  Conclusion: Reject H0\n",
      "\n",
      "Stat: Sp. Def\n",
      "  t-statistic: 10.0157\n",
      "  p-value: 0.00000000\n",
      "  Conclusion: Reject H0\n",
      "\n",
      "Stat: Speed\n",
      "  t-statistic: 11.4750\n",
      "  p-value: 0.00000000\n",
      "  Conclusion: Reject H0\n",
      "\n"
     ]
    }
   ],
   "source": [
    "from scipy.stats import ttest_ind\n",
    "# Hypotheses\n",
    "# H0: legendary_stats[stat] >= non_legendary_stats[stat]\n",
    "# H1: legendary_stats[stat] <  non_legendary_stats[stat]\n",
    "\n",
    "# Significance level\n",
    "alpha = 0.05\n",
    "\n",
    "# Results dictionary\n",
    "results = {}\n",
    "\n",
    "# Iterate over each stat column\n",
    "for stat in [\"HP\", \"Attack\", \"Defense\", \"Sp. Atk\", \"Sp. Def\", \"Speed\"]:\n",
    "    # Extract the relevant columns as 1D arrays\n",
    "    legendary_stat = legendary_stats[stat].dropna()\n",
    "    non_legendary_stat = non_legendary_stats[stat].dropna()\n",
    "    \n",
    "    # Perform the t-test\n",
    "    t_stat, p_value = ttest_ind(legendary_stat, non_legendary_stat, equal_var=False, alternative='greater')\n",
    "    \n",
    "    # Store the results\n",
    "    results[stat] = {\n",
    "        \"t-statistic\": t_stat,\n",
    "        \"p-value\": p_value,\n",
    "        \"Conclusion\": \"Reject H0\" if p_value < alpha else \"Fail to Reject H0\"\n",
    "    }\n",
    "\n",
    "# Display the results\n",
    "for stat, res in results.items():\n",
    "    print(f\"Stat: {stat}\")\n",
    "    print(f\"  t-statistic: {res['t-statistic']:.4f}\")\n",
    "    print(f\"  p-value: {res['p-value']:.8f}\")\n",
    "    print(f\"  Conclusion: {res['Conclusion']}\\n\")\n"
   ]
  },
  {
   "cell_type": "markdown",
   "metadata": {},
   "source": [
    "**Challenge 2**"
   ]
  },
  {
   "cell_type": "markdown",
   "metadata": {},
   "source": [
    "In this challenge, we will be working with california-housing data. The data can be found here:\n",
    "- https://raw.githubusercontent.com/data-bootcamp-v4/data/main/california_housing.csv"
   ]
  },
  {
   "cell_type": "code",
   "execution_count": 30,
   "metadata": {},
   "outputs": [
    {
     "data": {
      "text/html": [
       "<div>\n",
       "<style scoped>\n",
       "    .dataframe tbody tr th:only-of-type {\n",
       "        vertical-align: middle;\n",
       "    }\n",
       "\n",
       "    .dataframe tbody tr th {\n",
       "        vertical-align: top;\n",
       "    }\n",
       "\n",
       "    .dataframe thead th {\n",
       "        text-align: right;\n",
       "    }\n",
       "</style>\n",
       "<table border=\"1\" class=\"dataframe\">\n",
       "  <thead>\n",
       "    <tr style=\"text-align: right;\">\n",
       "      <th></th>\n",
       "      <th>longitude</th>\n",
       "      <th>latitude</th>\n",
       "      <th>housing_median_age</th>\n",
       "      <th>total_rooms</th>\n",
       "      <th>total_bedrooms</th>\n",
       "      <th>population</th>\n",
       "      <th>households</th>\n",
       "      <th>median_income</th>\n",
       "      <th>median_house_value</th>\n",
       "    </tr>\n",
       "  </thead>\n",
       "  <tbody>\n",
       "    <tr>\n",
       "      <th>0</th>\n",
       "      <td>-114.31</td>\n",
       "      <td>34.19</td>\n",
       "      <td>15.0</td>\n",
       "      <td>5612.0</td>\n",
       "      <td>1283.0</td>\n",
       "      <td>1015.0</td>\n",
       "      <td>472.0</td>\n",
       "      <td>1.4936</td>\n",
       "      <td>66900.0</td>\n",
       "    </tr>\n",
       "    <tr>\n",
       "      <th>1</th>\n",
       "      <td>-114.47</td>\n",
       "      <td>34.40</td>\n",
       "      <td>19.0</td>\n",
       "      <td>7650.0</td>\n",
       "      <td>1901.0</td>\n",
       "      <td>1129.0</td>\n",
       "      <td>463.0</td>\n",
       "      <td>1.8200</td>\n",
       "      <td>80100.0</td>\n",
       "    </tr>\n",
       "    <tr>\n",
       "      <th>2</th>\n",
       "      <td>-114.56</td>\n",
       "      <td>33.69</td>\n",
       "      <td>17.0</td>\n",
       "      <td>720.0</td>\n",
       "      <td>174.0</td>\n",
       "      <td>333.0</td>\n",
       "      <td>117.0</td>\n",
       "      <td>1.6509</td>\n",
       "      <td>85700.0</td>\n",
       "    </tr>\n",
       "    <tr>\n",
       "      <th>3</th>\n",
       "      <td>-114.57</td>\n",
       "      <td>33.64</td>\n",
       "      <td>14.0</td>\n",
       "      <td>1501.0</td>\n",
       "      <td>337.0</td>\n",
       "      <td>515.0</td>\n",
       "      <td>226.0</td>\n",
       "      <td>3.1917</td>\n",
       "      <td>73400.0</td>\n",
       "    </tr>\n",
       "    <tr>\n",
       "      <th>4</th>\n",
       "      <td>-114.57</td>\n",
       "      <td>33.57</td>\n",
       "      <td>20.0</td>\n",
       "      <td>1454.0</td>\n",
       "      <td>326.0</td>\n",
       "      <td>624.0</td>\n",
       "      <td>262.0</td>\n",
       "      <td>1.9250</td>\n",
       "      <td>65500.0</td>\n",
       "    </tr>\n",
       "  </tbody>\n",
       "</table>\n",
       "</div>"
      ],
      "text/plain": [
       "   longitude  latitude  housing_median_age  total_rooms  total_bedrooms  \\\n",
       "0    -114.31     34.19                15.0       5612.0          1283.0   \n",
       "1    -114.47     34.40                19.0       7650.0          1901.0   \n",
       "2    -114.56     33.69                17.0        720.0           174.0   \n",
       "3    -114.57     33.64                14.0       1501.0           337.0   \n",
       "4    -114.57     33.57                20.0       1454.0           326.0   \n",
       "\n",
       "   population  households  median_income  median_house_value  \n",
       "0      1015.0       472.0         1.4936             66900.0  \n",
       "1      1129.0       463.0         1.8200             80100.0  \n",
       "2       333.0       117.0         1.6509             85700.0  \n",
       "3       515.0       226.0         3.1917             73400.0  \n",
       "4       624.0       262.0         1.9250             65500.0  "
      ]
     },
     "execution_count": 30,
     "metadata": {},
     "output_type": "execute_result"
    }
   ],
   "source": [
    "df = pd.read_csv(\"https://raw.githubusercontent.com/data-bootcamp-v4/data/main/california_housing.csv\")\n",
    "df.head()"
   ]
  },
  {
   "cell_type": "markdown",
   "metadata": {},
   "source": [
    "**We posit that houses close to either a school or a hospital are more expensive.**\n",
    "\n",
    "- School coordinates (-118, 37)\n",
    "- Hospital coordinates (-122, 34)\n",
    "\n",
    "We consider a house (neighborhood) to be close to a school or hospital if the distance is lower than 0.50.\n",
    "\n",
    "Hint:\n",
    "- Write a function to calculate euclidean distance from each house (neighborhood) to the school and to the hospital.\n",
    "- Divide your dataset into houses close and far from either a hospital or school.\n",
    "- Choose the propper test and, with 5% significance, comment your findings.\n",
    " "
   ]
  },
  {
   "cell_type": "code",
   "execution_count": null,
   "metadata": {},
   "outputs": [
    {
     "name": "stdout",
     "output_type": "stream",
     "text": [
      "Requirement already satisfied: geopy in c:\\users\\utilizador\\anaconda3\\lib\\site-packages (2.4.1)\n",
      "Requirement already satisfied: geographiclib<3,>=1.52 in c:\\users\\utilizador\\anaconda3\\lib\\site-packages (from geopy) (2.0)\n"
     ]
    }
   ],
   "source": [
    "!pip install geopy\n",
    "from geopy.distance import geodesic\n"
   ]
  },
  {
   "cell_type": "code",
   "execution_count": 57,
   "metadata": {},
   "outputs": [
    {
     "name": "stdout",
     "output_type": "stream",
     "text": [
      "Houses Close to School or Hospital:\n",
      "(18, 13)\n",
      "\n",
      "Houses Far from Both:\n",
      "(16982, 13)\n"
     ]
    }
   ],
   "source": [
    "# Example coordinates for the school and hospital\n",
    "school_coords = (37, -118)  # Replace with actual values\n",
    "hospital_coords = (34, -122)  # Replace with actual values\n",
    "\n",
    "# Define a function to calculate geodesic distance (latitude, longitude)\n",
    "def calculate_geodesic_distance(coord1, coord2):\n",
    "    return geodesic(coord1, coord2).km  # Returns the distance in kilometers\n",
    "\n",
    "# Apply the geodesic distance calculation to your DataFrame\n",
    "houses[\"Distance_to_School\"] = houses.apply(\n",
    "    lambda row: calculate_geodesic_distance((row[\"latitude\"], row[\"longitude\"]), school_coords), axis=1\n",
    ")\n",
    "\n",
    "houses[\"Distance_to_Hospital\"] = houses.apply(\n",
    "    lambda row: calculate_geodesic_distance((row[\"latitude\"], row[\"longitude\"]), hospital_coords), axis=1\n",
    ")\n",
    "\n",
    "# Define a threshold for \"close\" vs. \"far\" (in kilometers)\n",
    "distance_threshold = 100.0  # Adjust this threshold based on the actual distances in your dataset\n",
    "\n",
    "# Classify houses as close or far\n",
    "houses[\"Close_to_School\"] = houses[\"Distance_to_School\"] <= distance_threshold\n",
    "houses[\"Close_to_Hospital\"] = houses[\"Distance_to_Hospital\"] <= distance_threshold\n",
    "\n",
    "# Create DataFrames for houses close and far\n",
    "houses_close = houses[(houses[\"Close_to_School\"]) | (houses[\"Close_to_Hospital\"])]\n",
    "houses_far = houses[~((houses[\"Close_to_School\"]) | (houses[\"Close_to_Hospital\"]))]\n",
    "\n",
    "# Print the resulting DataFrames\n",
    "print(\"Houses Close to School or Hospital:\")\n",
    "print(houses_close.shape)\n",
    "\n",
    "print(\"\\nHouses Far from Both:\")\n",
    "print(houses_far.shape)\n",
    "\n"
   ]
  },
  {
   "cell_type": "code",
   "execution_count": 58,
   "metadata": {},
   "outputs": [],
   "source": [
    "#Set the hypothesis\n",
    "\n",
    "#H0: houses_close_price >= houses_far_price\n",
    "#H1: houses_close_price < houses_far_price\n",
    "\n",
    "#significance level = 0.05\n",
    "houses_close = houses_close[\"median_house_value\"].dropna()\n",
    "houses_far = houses_far[\"median_house_value\"].dropna()\n"
   ]
  },
  {
   "cell_type": "code",
   "execution_count": 56,
   "metadata": {},
   "outputs": [
    {
     "data": {
      "text/plain": [
       "<bound method NDFrame.head of 4523     74200.0\n",
       "5596    108300.0\n",
       "5597    104700.0\n",
       "6776     94500.0\n",
       "6904     80600.0\n",
       "Name: median_house_value, dtype: float64>"
      ]
     },
     "execution_count": 56,
     "metadata": {},
     "output_type": "execute_result"
    }
   ],
   "source": [
    "houses_close.head"
   ]
  },
  {
   "cell_type": "code",
   "execution_count": 59,
   "metadata": {},
   "outputs": [
    {
     "name": "stdout",
     "output_type": "stream",
     "text": [
      "T-statistic: -11.6854\n",
      "P-value: 0.0000000006\n"
     ]
    }
   ],
   "source": [
    "# Perform the t-test\n",
    "t_stat, p_value = ttest_ind(houses_close, houses_far, equal_var=False, alternative='less')\n",
    "\n",
    "# Print results\n",
    "print(f\"T-statistic: {t_stat:.4f}\")\n",
    "print(f\"P-value: {p_value:.10f}\")"
   ]
  },
  {
   "cell_type": "code",
   "execution_count": null,
   "metadata": {},
   "outputs": [],
   "source": [
    "#Reject the null hypothesis: There is strong evidence that the means of the two groups or conditions being compared are significantly different.\n",
    "#The large negative t-statistic suggests that the first group (or sample) has a much lower mean than the second group (or population)."
   ]
  }
 ],
 "metadata": {
  "kernelspec": {
   "display_name": "base",
   "language": "python",
   "name": "python3"
  },
  "language_info": {
   "codemirror_mode": {
    "name": "ipython",
    "version": 3
   },
   "file_extension": ".py",
   "mimetype": "text/x-python",
   "name": "python",
   "nbconvert_exporter": "python",
   "pygments_lexer": "ipython3",
   "version": "3.12.7"
  }
 },
 "nbformat": 4,
 "nbformat_minor": 2
}
